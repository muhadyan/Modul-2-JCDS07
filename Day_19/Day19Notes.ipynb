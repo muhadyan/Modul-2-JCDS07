{
 "cells": [
  {
   "cell_type": "code",
   "execution_count": 141,
   "metadata": {},
   "outputs": [],
   "source": [
    "import pandas as pd\n",
    "import numpy as np\n",
    "import matplotlib.pyplot as plt\n",
    "import matplotlib.image as im\n",
    "import mpl_toolkits.mplot3d.axes3d"
   ]
  },
  {
   "cell_type": "markdown",
   "metadata": {},
   "source": [
    "# I. Heatmap"
   ]
  },
  {
   "cell_type": "code",
   "execution_count": 124,
   "metadata": {},
   "outputs": [
    {
     "data": {
      "text/html": [
       "<div>\n",
       "<style scoped>\n",
       "    .dataframe tbody tr th:only-of-type {\n",
       "        vertical-align: middle;\n",
       "    }\n",
       "\n",
       "    .dataframe tbody tr th {\n",
       "        vertical-align: top;\n",
       "    }\n",
       "\n",
       "    .dataframe thead th {\n",
       "        text-align: right;\n",
       "    }\n",
       "</style>\n",
       "<table border=\"1\" class=\"dataframe\">\n",
       "  <thead>\n",
       "    <tr style=\"text-align: right;\">\n",
       "      <th></th>\n",
       "      <th>nama</th>\n",
       "      <th>mobil</th>\n",
       "      <th>jumlah</th>\n",
       "    </tr>\n",
       "  </thead>\n",
       "  <tbody>\n",
       "    <tr>\n",
       "      <td>0</td>\n",
       "      <td>Andi</td>\n",
       "      <td>mobil A</td>\n",
       "      <td>20</td>\n",
       "    </tr>\n",
       "    <tr>\n",
       "      <td>1</td>\n",
       "      <td>Andi</td>\n",
       "      <td>mobil B</td>\n",
       "      <td>22</td>\n",
       "    </tr>\n",
       "    <tr>\n",
       "      <td>2</td>\n",
       "      <td>Andi</td>\n",
       "      <td>mobil C</td>\n",
       "      <td>66</td>\n",
       "    </tr>\n",
       "    <tr>\n",
       "      <td>3</td>\n",
       "      <td>Budi</td>\n",
       "      <td>mobil A</td>\n",
       "      <td>21</td>\n",
       "    </tr>\n",
       "    <tr>\n",
       "      <td>4</td>\n",
       "      <td>Budi</td>\n",
       "      <td>mobil B</td>\n",
       "      <td>19</td>\n",
       "    </tr>\n",
       "    <tr>\n",
       "      <td>5</td>\n",
       "      <td>Budi</td>\n",
       "      <td>mobil C</td>\n",
       "      <td>34</td>\n",
       "    </tr>\n",
       "    <tr>\n",
       "      <td>6</td>\n",
       "      <td>Caca</td>\n",
       "      <td>mobil A</td>\n",
       "      <td>33</td>\n",
       "    </tr>\n",
       "    <tr>\n",
       "      <td>7</td>\n",
       "      <td>Caca</td>\n",
       "      <td>mobil B</td>\n",
       "      <td>40</td>\n",
       "    </tr>\n",
       "    <tr>\n",
       "      <td>8</td>\n",
       "      <td>Caca</td>\n",
       "      <td>mobil C</td>\n",
       "      <td>2</td>\n",
       "    </tr>\n",
       "  </tbody>\n",
       "</table>\n",
       "</div>"
      ],
      "text/plain": [
       "   nama    mobil  jumlah\n",
       "0  Andi  mobil A      20\n",
       "1  Andi  mobil B      22\n",
       "2  Andi  mobil C      66\n",
       "3  Budi  mobil A      21\n",
       "4  Budi  mobil B      19\n",
       "5  Budi  mobil C      34\n",
       "6  Caca  mobil A      33\n",
       "7  Caca  mobil B      40\n",
       "8  Caca  mobil C       2"
      ]
     },
     "execution_count": 124,
     "metadata": {},
     "output_type": "execute_result"
    }
   ],
   "source": [
    "df = pd.read_csv('dataSales.csv')\n",
    "df"
   ]
  },
  {
   "cell_type": "code",
   "execution_count": 125,
   "metadata": {},
   "outputs": [
    {
     "data": {
      "text/html": [
       "<div>\n",
       "<style scoped>\n",
       "    .dataframe tbody tr th:only-of-type {\n",
       "        vertical-align: middle;\n",
       "    }\n",
       "\n",
       "    .dataframe tbody tr th {\n",
       "        vertical-align: top;\n",
       "    }\n",
       "\n",
       "    .dataframe thead tr th {\n",
       "        text-align: left;\n",
       "    }\n",
       "\n",
       "    .dataframe thead tr:last-of-type th {\n",
       "        text-align: right;\n",
       "    }\n",
       "</style>\n",
       "<table border=\"1\" class=\"dataframe\">\n",
       "  <thead>\n",
       "    <tr>\n",
       "      <th></th>\n",
       "      <th colspan=\"3\" halign=\"left\">jumlah</th>\n",
       "    </tr>\n",
       "    <tr>\n",
       "      <th>mobil</th>\n",
       "      <th>mobil A</th>\n",
       "      <th>mobil B</th>\n",
       "      <th>mobil C</th>\n",
       "    </tr>\n",
       "    <tr>\n",
       "      <th>nama</th>\n",
       "      <th></th>\n",
       "      <th></th>\n",
       "      <th></th>\n",
       "    </tr>\n",
       "  </thead>\n",
       "  <tbody>\n",
       "    <tr>\n",
       "      <td>Andi</td>\n",
       "      <td>20</td>\n",
       "      <td>22</td>\n",
       "      <td>66</td>\n",
       "    </tr>\n",
       "    <tr>\n",
       "      <td>Budi</td>\n",
       "      <td>21</td>\n",
       "      <td>19</td>\n",
       "      <td>34</td>\n",
       "    </tr>\n",
       "    <tr>\n",
       "      <td>Caca</td>\n",
       "      <td>33</td>\n",
       "      <td>40</td>\n",
       "      <td>2</td>\n",
       "    </tr>\n",
       "  </tbody>\n",
       "</table>\n",
       "</div>"
      ],
      "text/plain": [
       "       jumlah                \n",
       "mobil mobil A mobil B mobil C\n",
       "nama                         \n",
       "Andi       20      22      66\n",
       "Budi       21      19      34\n",
       "Caca       33      40       2"
      ]
     },
     "execution_count": 125,
     "metadata": {},
     "output_type": "execute_result"
    }
   ],
   "source": [
    "df = df.pivot(index='nama', columns='mobil')\n",
    "df"
   ]
  },
  {
   "cell_type": "markdown",
   "metadata": {},
   "source": [
    "## A. Show the heatmap with colorbar"
   ]
  },
  {
   "cell_type": "code",
   "execution_count": 126,
   "metadata": {},
   "outputs": [
    {
     "data": {
      "image/png": "[encoded data removed]",
      "text/plain": [
       "<Figure size 432x288 with 2 Axes>"
      ]
     },
     "metadata": {
      "needs_background": "light"
     },
     "output_type": "display_data"
    }
   ],
   "source": [
    "plt.imshow(df)\n",
    "plt.colorbar()\n",
    "plt.show()"
   ]
  },
  {
   "cell_type": "markdown",
   "metadata": {},
   "source": [
    "## B. Ngeubah Ticknya"
   ]
  },
  {
   "cell_type": "markdown",
   "metadata": {},
   "source": [
    "### Cara 1"
   ]
  },
  {
   "cell_type": "code",
   "execution_count": 127,
   "metadata": {},
   "outputs": [
    {
     "data": {
      "image/png": "[encoded data removed]",
      "text/plain": [
       "<Figure size 432x288 with 2 Axes>"
      ]
     },
     "metadata": {
      "needs_background": "light"
     },
     "output_type": "display_data"
    }
   ],
   "source": [
    "fig, p = plt.subplots()\n",
    "\n",
    "plt.imshow(df)\n",
    "plt.colorbar()\n",
    "\n",
    "col = list(map(lambda x: x[1], df.columns.tolist()))\n",
    "i = list(map(lambda x: x, df.index.tolist()))\n",
    "\n",
    "plt.xticks(np.arange(len(col)))\n",
    "p.set_xticklabels(col)\n",
    "plt.yticks(np.arange(len(i)))\n",
    "p.set_yticklabels(i)\n",
    "\n",
    "plt.ylim(2.5, -.5)\n",
    "plt.show()"
   ]
  },
  {
   "cell_type": "markdown",
   "metadata": {},
   "source": [
    "### Cara 2"
   ]
  },
  {
   "cell_type": "code",
   "execution_count": 128,
   "metadata": {},
   "outputs": [
    {
     "data": {
      "image/png": "[encoded data removed]",
      "text/plain": [
       "<Figure size 432x288 with 2 Axes>"
      ]
     },
     "metadata": {
      "needs_background": "light"
     },
     "output_type": "display_data"
    }
   ],
   "source": [
    "plt.imshow(df)\n",
    "plt.colorbar()\n",
    "\n",
    "# ngambil list kolomnya\n",
    "col = list(map(lambda x: x[1], df.columns.tolist()))\n",
    "# ngambil list indexnya\n",
    "i = list(map(lambda x: x, df.index.tolist()))\n",
    "\n",
    "plt.xticks(np.arange(len(col)), col)\n",
    "plt.yticks(np.arange(len(i)), i)\n",
    "\n",
    "plt.ylim(2.5, -.5)\n",
    "plt.show()"
   ]
  },
  {
   "cell_type": "markdown",
   "metadata": {},
   "source": [
    "## C. Ngeubah color mapnya"
   ]
  },
  {
   "cell_type": "markdown",
   "metadata": {},
   "source": [
    "### 1. Hot Map"
   ]
  },
  {
   "cell_type": "code",
   "execution_count": 129,
   "metadata": {},
   "outputs": [
    {
     "data": {
      "image/png": "[encoded data removed]",
      "text/plain": [
       "<Figure size 432x288 with 2 Axes>"
      ]
     },
     "metadata": {
      "needs_background": "light"
     },
     "output_type": "display_data"
    }
   ],
   "source": [
    "plt.imshow(df, cmap='hot')\n",
    "plt.colorbar()\n",
    "\n",
    "# ngambil list kolomnya\n",
    "col = list(map(lambda x: x[1], df.columns.tolist()))\n",
    "# ngambil list indexnya\n",
    "i = list(map(lambda x: x, df.index.tolist()))\n",
    "\n",
    "plt.xticks(np.arange(len(col)), col)\n",
    "plt.yticks(np.arange(len(i)), i)\n",
    "\n",
    "plt.ylim(2.5, -.5)\n",
    "plt.show()"
   ]
  },
  {
   "cell_type": "markdown",
   "metadata": {},
   "source": [
    "### 2. Reverse Hot Map"
   ]
  },
  {
   "cell_type": "code",
   "execution_count": 130,
   "metadata": {},
   "outputs": [
    {
     "data": {
      "image/png": "[encoded data removed]",
      "text/plain": [
       "<Figure size 432x288 with 2 Axes>"
      ]
     },
     "metadata": {
      "needs_background": "light"
     },
     "output_type": "display_data"
    }
   ],
   "source": [
    "plt.imshow(df, cmap='hot_r')\n",
    "plt.colorbar()\n",
    "\n",
    "# ngambil list kolomnya\n",
    "col = list(map(lambda x: x[1], df.columns.tolist()))\n",
    "# ngambil list indexnya\n",
    "i = list(map(lambda x: x, df.index.tolist()))\n",
    "\n",
    "plt.xticks(np.arange(len(col)), col)\n",
    "plt.yticks(np.arange(len(i)), i)\n",
    "\n",
    "plt.ylim(2.5, -.5)\n",
    "plt.show()"
   ]
  },
  {
   "cell_type": "markdown",
   "metadata": {},
   "source": [
    "### 3. Dan lain-lain"
   ]
  },
  {
   "cell_type": "markdown",
   "metadata": {},
   "source": [
    "## D. Nampilin value nya"
   ]
  },
  {
   "cell_type": "markdown",
   "metadata": {},
   "source": [
    "### 1. Shows"
   ]
  },
  {
   "cell_type": "code",
   "execution_count": 131,
   "metadata": {},
   "outputs": [
    {
     "data": {
      "image/png": "[encoded data removed]",
      "text/plain": [
       "<Figure size 432x288 with 2 Axes>"
      ]
     },
     "metadata": {
      "needs_background": "light"
     },
     "output_type": "display_data"
    }
   ],
   "source": [
    "fig, p = plt.subplots()\n",
    "\n",
    "plt.imshow(df)\n",
    "plt.colorbar()\n",
    "\n",
    "col = list(map(lambda x: x[1], df.columns.tolist()))\n",
    "i = list(map(lambda x: x, df.index.tolist()))\n",
    "\n",
    "for x in range(len(i)):\n",
    "    for y in range(len(col)):\n",
    "        p.text(y, x, df.iloc[x, y])\n",
    "\n",
    "plt.xticks(np.arange(len(col)), col)\n",
    "plt.yticks(np.arange(len(i)), i)\n",
    "\n",
    "plt.ylim(2.5, -.5)\n",
    "plt.show()"
   ]
  },
  {
   "cell_type": "markdown",
   "metadata": {},
   "source": [
    "### 2. Ngeset fontsizenya"
   ]
  },
  {
   "cell_type": "code",
   "execution_count": 132,
   "metadata": {},
   "outputs": [
    {
     "data": {
      "image/png": "[encoded data removed]",
      "text/plain": [
       "<Figure size 432x288 with 2 Axes>"
      ]
     },
     "metadata": {
      "needs_background": "light"
     },
     "output_type": "display_data"
    }
   ],
   "source": [
    "fig, p = plt.subplots()\n",
    "\n",
    "plt.imshow(df)\n",
    "plt.colorbar()\n",
    "\n",
    "col = list(map(lambda x: x[1], df.columns.tolist()))\n",
    "i = list(map(lambda x: x, df.index.tolist()))\n",
    "\n",
    "for x in range(len(i)):\n",
    "    for y in range(len(col)):\n",
    "        p.text(y, x, df.iloc[x, y],\n",
    "              color='pink', fontsize=20)\n",
    "\n",
    "plt.xticks(np.arange(len(col)), col)\n",
    "plt.yticks(np.arange(len(i)), i)\n",
    "\n",
    "plt.ylim(2.5, -.5)\n",
    "plt.show()"
   ]
  },
  {
   "cell_type": "markdown",
   "metadata": {},
   "source": [
    "### 3. Ngeset Alignment nya"
   ]
  },
  {
   "cell_type": "code",
   "execution_count": 133,
   "metadata": {},
   "outputs": [
    {
     "data": {
      "image/png": "[encoded data removed]",
      "text/plain": [
       "<Figure size 432x288 with 2 Axes>"
      ]
     },
     "metadata": {
      "needs_background": "light"
     },
     "output_type": "display_data"
    }
   ],
   "source": [
    "fig, p = plt.subplots()\n",
    "\n",
    "plt.imshow(df)\n",
    "plt.colorbar()\n",
    "\n",
    "col = list(map(lambda x: x[1], df.columns.tolist()))\n",
    "i = list(map(lambda x: x, df.index.tolist()))\n",
    "\n",
    "for x in range(len(i)):\n",
    "    for y in range(len(col)):\n",
    "        p.text(y, x, df.iloc[x, y],\n",
    "              color='r', fontsize=20,\n",
    "              ha='center', va='center')\n",
    "\n",
    "plt.xticks(np.arange(len(col)), col)\n",
    "plt.yticks(np.arange(len(i)), i)\n",
    "\n",
    "plt.ylim(2.5, -.5)\n",
    "plt.show()"
   ]
  },
  {
   "cell_type": "markdown",
   "metadata": {},
   "source": [
    "# II. Korelasi"
   ]
  },
  {
   "cell_type": "code",
   "execution_count": 137,
   "metadata": {},
   "outputs": [
    {
     "data": {
      "text/html": [
       "<div>\n",
       "<style scoped>\n",
       "    .dataframe tbody tr th:only-of-type {\n",
       "        vertical-align: middle;\n",
       "    }\n",
       "\n",
       "    .dataframe tbody tr th {\n",
       "        vertical-align: top;\n",
       "    }\n",
       "\n",
       "    .dataframe thead th {\n",
       "        text-align: right;\n",
       "    }\n",
       "</style>\n",
       "<table border=\"1\" class=\"dataframe\">\n",
       "  <thead>\n",
       "    <tr style=\"text-align: right;\">\n",
       "      <th></th>\n",
       "      <th>nama</th>\n",
       "      <th>BB</th>\n",
       "      <th>TB</th>\n",
       "      <th>cabor</th>\n",
       "      <th>freqMakan</th>\n",
       "      <th>freqLatihan</th>\n",
       "      <th>medal</th>\n",
       "    </tr>\n",
       "  </thead>\n",
       "  <tbody>\n",
       "    <tr>\n",
       "      <td>0</td>\n",
       "      <td>Andi</td>\n",
       "      <td>45</td>\n",
       "      <td>195</td>\n",
       "      <td>basket</td>\n",
       "      <td>2</td>\n",
       "      <td>5</td>\n",
       "      <td>10</td>\n",
       "    </tr>\n",
       "    <tr>\n",
       "      <td>1</td>\n",
       "      <td>Budi</td>\n",
       "      <td>55</td>\n",
       "      <td>165</td>\n",
       "      <td>sepakbola</td>\n",
       "      <td>3</td>\n",
       "      <td>1</td>\n",
       "      <td>0</td>\n",
       "    </tr>\n",
       "    <tr>\n",
       "      <td>2</td>\n",
       "      <td>Caca</td>\n",
       "      <td>40</td>\n",
       "      <td>155</td>\n",
       "      <td>badminton</td>\n",
       "      <td>2</td>\n",
       "      <td>8</td>\n",
       "      <td>20</td>\n",
       "    </tr>\n",
       "  </tbody>\n",
       "</table>\n",
       "</div>"
      ],
      "text/plain": [
       "   nama  BB   TB      cabor  freqMakan  freqLatihan  medal\n",
       "0  Andi  45  195     basket          2            5     10\n",
       "1  Budi  55  165  sepakbola          3            1      0\n",
       "2  Caca  40  155  badminton          2            8     20"
      ]
     },
     "execution_count": 137,
     "metadata": {},
     "output_type": "execute_result"
    }
   ],
   "source": [
    "dfAtlit = pd.read_csv('atlit.csv')\n",
    "dfAtlit"
   ]
  },
  {
   "cell_type": "markdown",
   "metadata": {},
   "source": [
    "## A. Ngecek Korelasinya"
   ]
  },
  {
   "cell_type": "code",
   "execution_count": 138,
   "metadata": {},
   "outputs": [
    {
     "data": {
      "text/html": [
       "<div>\n",
       "<style scoped>\n",
       "    .dataframe tbody tr th:only-of-type {\n",
       "        vertical-align: middle;\n",
       "    }\n",
       "\n",
       "    .dataframe tbody tr th {\n",
       "        vertical-align: top;\n",
       "    }\n",
       "\n",
       "    .dataframe thead th {\n",
       "        text-align: right;\n",
       "    }\n",
       "</style>\n",
       "<table border=\"1\" class=\"dataframe\">\n",
       "  <thead>\n",
       "    <tr style=\"text-align: right;\">\n",
       "      <th></th>\n",
       "      <th>BB</th>\n",
       "      <th>TB</th>\n",
       "      <th>freqMakan</th>\n",
       "      <th>freqLatihan</th>\n",
       "      <th>medal</th>\n",
       "    </tr>\n",
       "  </thead>\n",
       "  <tbody>\n",
       "    <tr>\n",
       "      <td>BB</td>\n",
       "      <td>1.000000</td>\n",
       "      <td>0.052414</td>\n",
       "      <td>0.944911</td>\n",
       "      <td>-0.994192</td>\n",
       "      <td>-0.981981</td>\n",
       "    </tr>\n",
       "    <tr>\n",
       "      <td>TB</td>\n",
       "      <td>0.052414</td>\n",
       "      <td>1.000000</td>\n",
       "      <td>-0.277350</td>\n",
       "      <td>-0.159586</td>\n",
       "      <td>-0.240192</td>\n",
       "    </tr>\n",
       "    <tr>\n",
       "      <td>freqMakan</td>\n",
       "      <td>0.944911</td>\n",
       "      <td>-0.277350</td>\n",
       "      <td>1.000000</td>\n",
       "      <td>-0.904194</td>\n",
       "      <td>-0.866025</td>\n",
       "    </tr>\n",
       "    <tr>\n",
       "      <td>freqLatihan</td>\n",
       "      <td>-0.994192</td>\n",
       "      <td>-0.159586</td>\n",
       "      <td>-0.904194</td>\n",
       "      <td>1.000000</td>\n",
       "      <td>0.996616</td>\n",
       "    </tr>\n",
       "    <tr>\n",
       "      <td>medal</td>\n",
       "      <td>-0.981981</td>\n",
       "      <td>-0.240192</td>\n",
       "      <td>-0.866025</td>\n",
       "      <td>0.996616</td>\n",
       "      <td>1.000000</td>\n",
       "    </tr>\n",
       "  </tbody>\n",
       "</table>\n",
       "</div>"
      ],
      "text/plain": [
       "                   BB        TB  freqMakan  freqLatihan     medal\n",
       "BB           1.000000  0.052414   0.944911    -0.994192 -0.981981\n",
       "TB           0.052414  1.000000  -0.277350    -0.159586 -0.240192\n",
       "freqMakan    0.944911 -0.277350   1.000000    -0.904194 -0.866025\n",
       "freqLatihan -0.994192 -0.159586  -0.904194     1.000000  0.996616\n",
       "medal       -0.981981 -0.240192  -0.866025     0.996616  1.000000"
      ]
     },
     "execution_count": 138,
     "metadata": {},
     "output_type": "execute_result"
    }
   ],
   "source": [
    "dfCorr = dfAtlit.corr()\n",
    "dfCorr"
   ]
  },
  {
   "cell_type": "markdown",
   "metadata": {},
   "source": [
    "## B. Tampilkan di Heatmap"
   ]
  },
  {
   "cell_type": "code",
   "execution_count": 136,
   "metadata": {},
   "outputs": [
    {
     "data": {
      "image/png": "[encoded data removed]",
      "text/plain": [
       "<Figure size 432x288 with 2 Axes>"
      ]
     },
     "metadata": {
      "needs_background": "light"
     },
     "output_type": "display_data"
    }
   ],
   "source": [
    "plt.imshow(dfCorr)\n",
    "plt.colorbar()\n",
    "\n",
    "# hanya col saja karna indexnya sama kayak col\n",
    "col = list(map(lambda x: x, dfCorr.columns.tolist()))\n",
    "\n",
    "for x in range(len(col)):\n",
    "    for y in range(len(col)):\n",
    "        plt.text(y, x, round(df.corr().iloc[x, y], 3),\n",
    "                ha='center', va='center',\n",
    "                color='r')\n",
    "        \n",
    "plt.xticks(np.arange(len(col)), col, rotation=45)\n",
    "plt.yticks(np.arange(len(col)), col)\n",
    "\n",
    "plt.ylim(4.5, -.5)\n",
    "plt.show()"
   ]
  },
  {
   "cell_type": "markdown",
   "metadata": {},
   "source": [
    "# III. 3D Ploting"
   ]
  },
  {
   "cell_type": "code",
   "execution_count": 148,
   "metadata": {},
   "outputs": [
    {
     "data": {
      "image/png": "[encoded data removed]",
      "text/plain": [
       "<Figure size 432x288 with 1 Axes>"
      ]
     },
     "metadata": {
      "needs_background": "light"
     },
     "output_type": "display_data"
    }
   ],
   "source": [
    "fig = plt.figure()\n",
    "p = plt.subplot(111, projection='3d')\n",
    "data = range(11)\n",
    "x = np.array(data)\n",
    "\n",
    "p.plot_wireframe(x, x, x.reshape(1,-1))\n",
    "p.set_xlabel('sumbu X')\n",
    "p.set_ylabel('sumbu Y')\n",
    "p.set_zlabel('sumbu Z')\n",
    "plt.show()"
   ]
  }
 ],
 "metadata": {
  "kernelspec": {
   "display_name": "Python 3",
   "language": "python",
   "name": "python3"
  },
  "language_info": {
   "codemirror_mode": {
    "name": "ipython",
    "version": 3
   },
   "file_extension": ".py",
   "mimetype": "text/x-python",
   "name": "python",
   "nbconvert_exporter": "python",
   "pygments_lexer": "ipython3",
   "version": "3.7.4"
  }
 },
 "nbformat": 4,
 "nbformat_minor": 4
}
